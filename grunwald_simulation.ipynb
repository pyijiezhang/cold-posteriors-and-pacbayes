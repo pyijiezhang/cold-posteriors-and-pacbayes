{
 "cells": [
  {
   "cell_type": "code",
   "execution_count": 1,
   "metadata": {},
   "outputs": [
    {
     "name": "stderr",
     "output_type": "stream",
     "text": [
      "/Users/nsq277/opt/anaconda3/envs/cold_pac/lib/python3.8/site-packages/tqdm/auto.py:22: TqdmWarning: IProgress not found. Please update jupyter and ipywidgets. See https://ipywidgets.readthedocs.io/en/stable/user_install.html\n",
      "  from .autonotebook import tqdm as notebook_tqdm\n"
     ]
    }
   ],
   "source": [
    "import numpy as np\n",
    "import torch\n",
    "from torch.distributions.normal import Normal\n",
    "import matplotlib.pyplot as plt\n",
    "from data_grunwald import get_data, get_X_show\n"
   ]
  },
  {
   "cell_type": "code",
   "execution_count": 2,
   "metadata": {},
   "outputs": [],
   "source": [
    "# set seed\n",
    "seed = 0\n",
    "np.random.seed(seed)\n",
    "\n",
    "# get data\n",
    "y = 0.0\n",
    "d_x = 101  # number of fourier features\n",
    "n_train = 100\n",
    "n_test = 10000\n",
    "if_misspecified = False\n",
    "X_train, Y_train, X_train_orig = get_data(\n",
    "    y=y, d_x=d_x, n_data=n_train, if_misspecified=if_misspecified\n",
    ")\n",
    "X_test, Y_test, X_test_orig = get_data(\n",
    "    y=y, d_x=d_x, n_data=n_test, if_misspecified=if_misspecified\n",
    ")\n"
   ]
  },
  {
   "cell_type": "code",
   "execution_count": 3,
   "metadata": {},
   "outputs": [
    {
     "data": {
      "text/plain": [
       "(10000, 101)"
      ]
     },
     "execution_count": 3,
     "metadata": {},
     "output_type": "execute_result"
    }
   ],
   "source": [
    "X_test.shape\n"
   ]
  },
  {
   "cell_type": "code",
   "execution_count": 8,
   "metadata": {},
   "outputs": [],
   "source": [
    "def get_log_risks_lambs(var_prior):\n",
    "    \"\"\"var_prior: prior variance\"\"\"\n",
    "    log_risks_lambs = []\n",
    "    lambs = np.linspace(0.1, 3.0, 20)\n",
    "    for lamb in lambs:\n",
    "        print(lamb)\n",
    "        print()\n",
    "\n",
    "        # settings\n",
    "        alpha = 1 / var_prior # prior recision\n",
    "        beta_orig = 40.0  # gaussian likelihood precision before absorbing temperature\n",
    "        beta = (\n",
    "            beta_orig * lamb\n",
    "        )  # gaussian likelihood precision after absorbing temperature\n",
    "        \n",
    "        # compute posterior dist., see bishop eq.3.53 and 3.54\n",
    "        S_N_inv = (\n",
    "            alpha * np.identity(d_x) + beta * X_train.T @ X_train\n",
    "        )  # posterior variance\n",
    "        S_N = np.linalg.inv(S_N_inv)  # posterior precision\n",
    "        m_N = beta * S_N @ X_train.T @ Y_train  # posterior mean\n",
    "\n",
    "        # computre posterior prediction dist., see bishop eq.3.58 and 3.59\n",
    "        post_pred_mean = X_test @ m_N\n",
    "        post_pred_cov = np.identity(n_test) / beta + X_test @ S_N @ X_test.T\n",
    "        post_pred_std = np.sqrt(np.diag(post_pred_cov))\n",
    "        post_pred = Normal(torch.tensor(post_pred_mean), torch.tensor(post_pred_std))\n",
    "\n",
    "        # get log-risk\n",
    "        log_risk = -post_pred.log_prob(torch.tensor(Y_test)).mean().item()\n",
    "        log_risks_lambs.append(log_risk)\n",
    "\n",
    "    return log_risks_lambs\n"
   ]
  },
  {
   "cell_type": "code",
   "execution_count": 9,
   "metadata": {},
   "outputs": [
    {
     "name": "stdout",
     "output_type": "stream",
     "text": [
      "0.1\n",
      "\n",
      "0.25263157894736843\n",
      "\n",
      "0.4052631578947369\n",
      "\n",
      "0.5578947368421052\n",
      "\n",
      "0.7105263157894737\n",
      "\n",
      "0.8631578947368421\n",
      "\n",
      "1.0157894736842106\n",
      "\n",
      "1.168421052631579\n",
      "\n",
      "1.3210526315789475\n",
      "\n",
      "1.473684210526316\n",
      "\n",
      "1.6263157894736844\n",
      "\n",
      "1.7789473684210528\n",
      "\n",
      "1.931578947368421\n",
      "\n",
      "2.0842105263157893\n",
      "\n",
      "2.236842105263158\n",
      "\n",
      "2.3894736842105266\n",
      "\n",
      "2.542105263157895\n",
      "\n",
      "2.694736842105263\n",
      "\n",
      "2.8473684210526318\n",
      "\n",
      "3.0\n",
      "\n",
      "0.1\n",
      "\n",
      "0.25263157894736843\n",
      "\n",
      "0.4052631578947369\n",
      "\n",
      "0.5578947368421052\n",
      "\n",
      "0.7105263157894737\n",
      "\n",
      "0.8631578947368421\n",
      "\n",
      "1.0157894736842106\n",
      "\n",
      "1.168421052631579\n",
      "\n",
      "1.3210526315789475\n",
      "\n",
      "1.473684210526316\n",
      "\n",
      "1.6263157894736844\n",
      "\n",
      "1.7789473684210528\n",
      "\n",
      "1.931578947368421\n",
      "\n",
      "2.0842105263157893\n",
      "\n",
      "2.236842105263158\n",
      "\n",
      "2.3894736842105266\n",
      "\n",
      "2.542105263157895\n",
      "\n",
      "2.694736842105263\n",
      "\n",
      "2.8473684210526318\n",
      "\n",
      "3.0\n",
      "\n"
     ]
    }
   ],
   "source": [
    "log_risks_lambs_100 = get_log_risks_lambs(100)\n",
    "log_risks_lambs_001 = get_log_risks_lambs(0.01)\n"
   ]
  },
  {
   "cell_type": "code",
   "execution_count": 1,
   "metadata": {},
   "outputs": [
    {
     "ename": "NameError",
     "evalue": "name 'plt' is not defined",
     "output_type": "error",
     "traceback": [
      "\u001b[0;31m---------------------------------------------------------------------------\u001b[0m",
      "\u001b[0;31mNameError\u001b[0m                                 Traceback (most recent call last)",
      "\u001b[1;32m/Users/nsq277/Desktop/cold_pacbayes/cold-posteriors-and-pacbayes/grunwald_simulation.ipynb Cell 6\u001b[0m in \u001b[0;36m<cell line: 1>\u001b[0;34m()\u001b[0m\n\u001b[0;32m----> <a href='vscode-notebook-cell:/Users/nsq277/Desktop/cold_pacbayes/cold-posteriors-and-pacbayes/grunwald_simulation.ipynb#W5sZmlsZQ%3D%3D?line=0'>1</a>\u001b[0m fig \u001b[39m=\u001b[39m plt\u001b[39m.\u001b[39mfigure(figsize\u001b[39m=\u001b[39m(\u001b[39m6\u001b[39m, \u001b[39m5\u001b[39m))\n\u001b[1;32m      <a href='vscode-notebook-cell:/Users/nsq277/Desktop/cold_pacbayes/cold-posteriors-and-pacbayes/grunwald_simulation.ipynb#W5sZmlsZQ%3D%3D?line=1'>2</a>\u001b[0m plt\u001b[39m.\u001b[39mgrid()\n\u001b[1;32m      <a href='vscode-notebook-cell:/Users/nsq277/Desktop/cold_pacbayes/cold-posteriors-and-pacbayes/grunwald_simulation.ipynb#W5sZmlsZQ%3D%3D?line=2'>3</a>\u001b[0m lambs \u001b[39m=\u001b[39m np\u001b[39m.\u001b[39mlinspace(\u001b[39m0.1\u001b[39m, \u001b[39m3.0\u001b[39m, \u001b[39m20\u001b[39m)\n",
      "\u001b[0;31mNameError\u001b[0m: name 'plt' is not defined"
     ]
    }
   ],
   "source": [
    "fig = plt.figure(figsize=(6, 5))\n",
    "plt.grid()\n",
    "lambs = np.linspace(0.1, 3.0, 20)\n",
    "plt.plot(lambs, log_risks_lambs_001, \"-*\", label=\"var_prior=0.01\")\n",
    "plt.plot(lambs, log_risks_lambs_100, \"_.\", label=\"var_prior=100.0\")\n",
    "plt.xlabel(\"lambda\")\n",
    "plt.ylabel(\"true log-risk\")\n",
    "plt.title(\"grunwald, N=100, d_x=101, var_likelihood=0.025\")\n",
    "plt.legend()\n",
    "plt.savefig(\"grunwald_result.jpg\", bbox_inches=\"tight\")\n",
    "plt.show()\n"
   ]
  },
  {
   "cell_type": "code",
   "execution_count": null,
   "metadata": {},
   "outputs": [],
   "source": []
  }
 ],
 "metadata": {
  "kernelspec": {
   "display_name": "Python 3.8.13 ('cold_pac')",
   "language": "python",
   "name": "python3"
  },
  "language_info": {
   "codemirror_mode": {
    "name": "ipython",
    "version": 3
   },
   "file_extension": ".py",
   "mimetype": "text/x-python",
   "name": "python",
   "nbconvert_exporter": "python",
   "pygments_lexer": "ipython3",
   "version": "3.8.13"
  },
  "orig_nbformat": 4,
  "vscode": {
   "interpreter": {
    "hash": "7b78deb3d03e36a0ba6b4065823badc46a56eea15fa66acb19f7b53102411ea5"
   }
  }
 },
 "nbformat": 4,
 "nbformat_minor": 2
}
