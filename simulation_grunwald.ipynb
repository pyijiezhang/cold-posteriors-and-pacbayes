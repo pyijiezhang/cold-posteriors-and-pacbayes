{
 "cells": [
  {
   "cell_type": "code",
   "execution_count": 136,
   "metadata": {},
   "outputs": [],
   "source": [
    "import numpy as np\n",
    "import torch\n",
    "import json\n",
    "from data_simulation import get_data_specified, get_data_misspecified\n",
    "from utils import get_measures\n"
   ]
  },
  {
   "cell_type": "code",
   "execution_count": 137,
   "metadata": {},
   "outputs": [],
   "source": [
    "# 1: model well-specified\n",
    "# 2: model well-specified\n",
    "settings = {}\n",
    "settings[1] = {\"if_misspecified\": False}\n",
    "settings[2] = {\"if_misspecified\": True}\n"
   ]
  },
  {
   "cell_type": "code",
   "execution_count": 138,
   "metadata": {},
   "outputs": [],
   "source": [
    "simulation_i = \"grunwald\"\n",
    "setting_i = 2\n",
    "if_misspecified = settings[setting_i][\"if_misspecified\"]\n"
   ]
  },
  {
   "cell_type": "code",
   "execution_count": 139,
   "metadata": {},
   "outputs": [],
   "source": [
    "# set seed\n",
    "seed = 0\n",
    "np.random.seed(seed)\n",
    "\n",
    "# get data\n",
    "d_x = 20  # number of fourier features\n",
    "n_train = 50\n",
    "n_test = 10000\n",
    "var_likelihood = 0.025\n",
    "\n",
    "if if_misspecified:\n",
    "    X_train, Y_train, _ = get_data_misspecified(\n",
    "        d_x=d_x, n_data=n_train\n",
    "    )\n",
    "    X_test, Y_test, _ = get_data_misspecified(\n",
    "        d_x=d_x, n_data=n_test\n",
    "    )\n",
    "else:\n",
    "    X_train, Y_train, _ = get_data_specified(\n",
    "        d_x=d_x, n_data=n_train\n",
    "    )\n",
    "    X_test, Y_test, _ = get_data_specified(\n",
    "        d_x=d_x, n_data=n_test\n",
    "    )\n"
   ]
  },
  {
   "cell_type": "code",
   "execution_count": 140,
   "metadata": {},
   "outputs": [],
   "source": [
    "lambs = np.linspace(0.0, 500.0, 501)\n"
   ]
  },
  {
   "cell_type": "code",
   "execution_count": 141,
   "metadata": {},
   "outputs": [
    {
     "name": "stdout",
     "output_type": "stream",
     "text": [
      "0.0\n",
      "1.0\n",
      "2.0\n",
      "3.0\n",
      "4.0\n",
      "5.0\n",
      "6.0\n",
      "7.0\n",
      "8.0\n",
      "9.0\n",
      "10.0\n",
      "11.0\n",
      "12.0\n",
      "13.0\n",
      "14.0\n",
      "15.0\n",
      "16.0\n",
      "17.0\n",
      "18.0\n",
      "19.0\n",
      "20.0\n",
      "21.0\n",
      "22.0\n",
      "23.0\n",
      "24.0\n",
      "25.0\n",
      "26.0\n",
      "27.0\n",
      "28.0\n",
      "29.0\n",
      "30.0\n",
      "31.0\n",
      "32.0\n",
      "33.0\n",
      "34.0\n",
      "35.0\n",
      "36.0\n",
      "37.0\n",
      "38.0\n",
      "39.0\n",
      "40.0\n",
      "41.0\n",
      "42.0\n",
      "43.0\n",
      "44.0\n",
      "45.0\n",
      "46.0\n",
      "47.0\n",
      "48.0\n",
      "49.0\n",
      "50.0\n",
      "51.0\n",
      "52.0\n",
      "53.0\n",
      "54.0\n",
      "55.0\n",
      "56.0\n",
      "57.0\n",
      "58.0\n",
      "59.0\n",
      "60.0\n",
      "61.0\n",
      "62.0\n",
      "63.0\n",
      "64.0\n",
      "65.0\n",
      "66.0\n",
      "67.0\n",
      "68.0\n",
      "69.0\n",
      "70.0\n",
      "71.0\n",
      "72.0\n",
      "73.0\n",
      "74.0\n",
      "75.0\n",
      "76.0\n",
      "77.0\n",
      "78.0\n",
      "79.0\n",
      "80.0\n",
      "81.0\n",
      "82.0\n",
      "83.0\n",
      "84.0\n",
      "85.0\n",
      "86.0\n"
     ]
    }
   ],
   "source": [
    "var_prior_1 = 0.01\n",
    "var_prior_2 = 0.1\n",
    "var_prior_3 = 1.0\n",
    "\n",
    "results_1 = get_measures(\n",
    "    var_prior_1, var_likelihood, X_train, Y_train, X_test, Y_test, lambs\n",
    ")\n",
    "results_2 = get_measures(\n",
    "    var_prior_2, var_likelihood, X_train, Y_train, X_test, Y_test, lambs\n",
    ")\n",
    "results_3 = get_measures(\n",
    "    var_prior_3, var_likelihood, X_train, Y_train, X_test, Y_test, lambs\n",
    ")\n"
   ]
  },
  {
   "cell_type": "code",
   "execution_count": null,
   "metadata": {},
   "outputs": [],
   "source": [
    "dict_save = {}\n",
    "dict_save[var_prior_1] = results_1\n",
    "dict_save[var_prior_2] = results_2\n",
    "dict_save[var_prior_3] = results_3\n",
    "\n",
    "with open(f\"{simulation_i}_{setting_i}_{n_train}_{d_x}.json\", \"w\") as convert_file:\n",
    "    convert_file.write(json.dumps(dict_save))\n"
   ]
  },
  {
   "cell_type": "code",
   "execution_count": null,
   "metadata": {},
   "outputs": [],
   "source": []
  }
 ],
 "metadata": {
  "kernelspec": {
   "display_name": "Python 3.8.13 ('cold_pac')",
   "language": "python",
   "name": "python3"
  },
  "language_info": {
   "codemirror_mode": {
    "name": "ipython",
    "version": 3
   },
   "file_extension": ".py",
   "mimetype": "text/x-python",
   "name": "python",
   "nbconvert_exporter": "python",
   "pygments_lexer": "ipython3",
   "version": "3.8.13"
  },
  "orig_nbformat": 4,
  "vscode": {
   "interpreter": {
    "hash": "7b78deb3d03e36a0ba6b4065823badc46a56eea15fa66acb19f7b53102411ea5"
   }
  }
 },
 "nbformat": 4,
 "nbformat_minor": 2
}
